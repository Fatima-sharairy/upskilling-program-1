{
 "cells": [
  {
   "cell_type": "code",
   "execution_count": null,
   "metadata": {},
   "outputs": [],
   "source": [
    "print('Fatima',1991)\n",
    "print(type(1991))\n"
   ]
  },
  {
   "cell_type": "markdown",
   "metadata": {},
   "source": [
    "Q2"
   ]
  },
  {
   "cell_type": "code",
   "execution_count": null,
   "metadata": {},
   "outputs": [],
   "source": [
    "print(444,end='')\n",
    "print(222)"
   ]
  },
  {
   "cell_type": "markdown",
   "metadata": {},
   "source": [
    "Q3"
   ]
  },
  {
   "cell_type": "code",
   "execution_count": 30,
   "metadata": {},
   "outputs": [
    {
     "name": "stdout",
     "output_type": "stream",
     "text": [
      "a number9\n",
      "9 is divisable by 3\n"
     ]
    }
   ],
   "source": [
    "x=int(input('a number'))\n",
    "if (x % 3)==0:\n",
    "    print(x,'is divisable by 3')\n",
    "else: \n",
    "        print(x,'is divisable by 3')"
   ]
  },
  {
   "cell_type": "markdown",
   "metadata": {},
   "source": [
    "Q4"
   ]
  },
  {
   "cell_type": "code",
   "execution_count": 15,
   "metadata": {},
   "outputs": [
    {
     "name": "stdout",
     "output_type": "stream",
     "text": [
      "Input first number: 3\n",
      "Input second number: 2\n",
      "Input third number: 1\n",
      "-21.166666666666668\n",
      "-15.125\n"
     ]
    }
   ],
   "source": [
    "a = int(input(\"Input first number: \"))\n",
    "b = int(input(\"Input second number: \"))\n",
    "c = int(input(\"Input third number: \"))\n",
    "\n",
    "x1=((-b+c**4) / (2*a)) - ((3*(a+b**2))/c)\n",
    "x2=((a+b**3)**2/(c-a**2))\n",
    "\n",
    "print (x1)\n",
    "print (x2)"
   ]
  },
  {
   "cell_type": "markdown",
   "metadata": {},
   "source": [
    "Q5"
   ]
  },
  {
   "cell_type": "code",
   "execution_count": null,
   "metadata": {},
   "outputs": [],
   "source": [
    "a,b = input('Enter two numbers: ').split(' ')\n",
    "a=int(a)\n",
    "b=int(b)\n",
    "print(max(a,b))"
   ]
  },
  {
   "cell_type": "markdown",
   "metadata": {},
   "source": [
    "Q6"
   ]
  },
  {
   "cell_type": "code",
   "execution_count": 2,
   "metadata": {},
   "outputs": [
    {
     "name": "stdout",
     "output_type": "stream",
     "text": [
      "Enter three numbers: 2 3 5\n",
      "5\n"
     ]
    }
   ],
   "source": [
    "a,b,c = input('Enter three numbers: ').split(' ')\n",
    "a=int(a)\n",
    "b=int(b)\n",
    "c=int(c)\n",
    "print(max(a,b,c))"
   ]
  },
  {
   "cell_type": "markdown",
   "metadata": {},
   "source": [
    "Q7"
   ]
  },
  {
   "cell_type": "code",
   "execution_count": 4,
   "metadata": {},
   "outputs": [
    {
     "name": "stdout",
     "output_type": "stream",
     "text": [
      "enter a number6\n",
      "enter a number2\n",
      "3.0\n"
     ]
    }
   ],
   "source": [
    "a=input('enter a number')\n",
    "b=input('enter a number')\n",
    "a=int(a)\n",
    "b=int(b)\n",
    "if b==0 :\n",
    "     print('b is zero')\n",
    "else:\n",
    "    print(a/b)"
   ]
  },
  {
   "cell_type": "markdown",
   "metadata": {},
   "source": [
    "Q8"
   ]
  },
  {
   "cell_type": "code",
   "execution_count": 12,
   "metadata": {},
   "outputs": [
    {
     "name": "stdout",
     "output_type": "stream",
     "text": [
      "years =  13 \n",
      "weeks =  36 \n",
      "days =  3\n"
     ]
    }
   ],
   "source": [
    "DAYS_IN_WEEK = 7\n",
    "  \n",
    "# Function to find  \n",
    "# year, week, days  \n",
    "def find( number_of_days ): \n",
    "  \n",
    "\n",
    "    year = int(number_of_days / 365) \n",
    "    week = int((number_of_days % 365) / \n",
    "                DAYS_IN_WEEK) \n",
    "    days = (number_of_days % 365) % DAYS_IN_WEEK \n",
    "      \n",
    "    print(\"years = \",year, \n",
    "          \"\\nweeks = \",week, \n",
    "          \"\\ndays = \",days) \n",
    "      \n",
    "# Driver Code \n",
    "number_of_days = 5000\n",
    "find(number_of_days) "
   ]
  },
  {
   "cell_type": "markdown",
   "metadata": {},
   "source": [
    "Q9"
   ]
  },
  {
   "cell_type": "code",
   "execution_count": 13,
   "metadata": {},
   "outputs": [
    {
     "name": "stdout",
     "output_type": "stream",
     "text": [
      "enter temp in celsius36\n",
      "96.8\n"
     ]
    }
   ],
   "source": [
    "celsius=int (input('enter temp in celsius'))\n",
    "fahrenheit = (celsius * 1.8) + 32\n",
    "print (fahrenheit)"
   ]
  },
  {
   "cell_type": "markdown",
   "metadata": {},
   "source": [
    "Q10 : not solved\n"
   ]
  },
  {
   "cell_type": "markdown",
   "metadata": {},
   "source": [
    "Q11"
   ]
  },
  {
   "cell_type": "code",
   "execution_count": 17,
   "metadata": {},
   "outputs": [
    {
     "name": "stdout",
     "output_type": "stream",
     "text": [
      "inter the Q range50\n",
      "Extremly low\n"
     ]
    }
   ],
   "source": [
    "Qrange=int (input('inter the Q range'))\n",
    "if Qrange >130:\n",
    "    print('Very Superior')\n",
    "if 129 > Qrange > 120:\n",
    "    print('Superior')\n",
    "if 119 > Qrange > 110:\n",
    "    print('High Average')\n",
    "if 109 > Qrange > 90:\n",
    "    print( 'Average')\n",
    "if 89 > Qrange > 80:\n",
    "    print('low Average')\n",
    "if 79 > Qrange > 70:\n",
    "    print('Borderline')\n",
    "if Qrange<69 :\n",
    "    print('Extremly low')\n",
    "\n"
   ]
  },
  {
   "cell_type": "markdown",
   "metadata": {},
   "source": [
    "Q12"
   ]
  },
  {
   "cell_type": "code",
   "execution_count": 18,
   "metadata": {},
   "outputs": [
    {
     "name": "stdout",
     "output_type": "stream",
     "text": [
      "enter the student mark70\n",
      "C\n"
     ]
    }
   ],
   "source": [
    "StudentMark=int(input('enter the student mark'))\n",
    "\n",
    "if 100 > StudentMark >= 90:\n",
    "    print('A')\n",
    "if 90 > StudentMark >= 80:\n",
    "    print(' B')\n",
    "if 80 > StudentMark >= 70:\n",
    "    print( 'C')\n",
    "if 70 > StudentMark >= 60:\n",
    "    print('D')\n",
    "if 60 > StudentMark >= 50:\n",
    "    print('E')\n",
    "    \n",
    "\n"
   ]
  },
  {
   "cell_type": "markdown",
   "metadata": {},
   "source": [
    "Q14"
   ]
  },
  {
   "cell_type": "code",
   "execution_count": 28,
   "metadata": {},
   "outputs": [
    {
     "name": "stdout",
     "output_type": "stream",
     "text": [
      "Input a letter of the alphabet: E\n",
      "E  is a vowel.\n"
     ]
    }
   ],
   "source": [
    "l = input(\"Input a letter of the alphabet: \")\n",
    "\n",
    "if l in ('a', 'e', 'i', 'o', 'u','A','E','I','O','U'):\n",
    "    print(l,\" is a vowel.\")\n",
    "elif l == 'y':\n",
    "    print(\"Sometimes letter y stand for vowel, sometimes stand for consonant.\")\n",
    "else:\n",
    "    print(l,\" is a consonant.\") \n"
   ]
  },
  {
   "cell_type": "markdown",
   "metadata": {},
   "source": [
    "Q15\n"
   ]
  },
  {
   "cell_type": "code",
   "execution_count": 31,
   "metadata": {},
   "outputs": [
    {
     "name": "stdout",
     "output_type": "stream",
     "text": [
      "Enter a number: 8\n",
      "8  is Even\n"
     ]
    }
   ],
   "source": [
    "num = int(input(\"Enter a number: \"))\n",
    "if (num % 2) == 0:\n",
    "   print(num,\" is Even\")\n",
    "else:\n",
    "   print(num,\" is Odd\")"
   ]
  },
  {
   "cell_type": "markdown",
   "metadata": {},
   "source": [
    "Q16\n"
   ]
  },
  {
   "cell_type": "code",
   "execution_count": 33,
   "metadata": {},
   "outputs": [
    {
     "name": "stdout",
     "output_type": "stream",
     "text": [
      "Current date and time: \n",
      "2019-10-10 11:28:30.858664\n"
     ]
    }
   ],
   "source": [
    "import datetime\n",
    "now = datetime.datetime.now()\n",
    "print(\"Current date and time: \")\n",
    "print(str(now))"
   ]
  },
  {
   "cell_type": "markdown",
   "metadata": {},
   "source": [
    "Q17"
   ]
  },
  {
   "cell_type": "code",
   "execution_count": 35,
   "metadata": {},
   "outputs": [
    {
     "name": "stdout",
     "output_type": "stream",
     "text": [
      "enter the radius2\n",
      "12.56 is the circle area\n"
     ]
    }
   ],
   "source": [
    "r=int(input('enter the radius'))\n",
    "x=r*r*3.14\n",
    "print(x,'is the circle area')"
   ]
  },
  {
   "cell_type": "markdown",
   "metadata": {},
   "source": [
    "Q18\n"
   ]
  },
  {
   "cell_type": "code",
   "execution_count": 36,
   "metadata": {},
   "outputs": [
    {
     "name": "stdout",
     "output_type": "stream",
     "text": [
      "your namefatima\n",
      "['a', 'm', 'i', 't', 'a', 'f']\n"
     ]
    }
   ],
   "source": [
    "x=input('your name')\n",
    "print(list(reversed(x)))"
   ]
  },
  {
   "cell_type": "markdown",
   "metadata": {},
   "source": [
    "Q19"
   ]
  },
  {
   "cell_type": "code",
   "execution_count": 38,
   "metadata": {},
   "outputs": [
    {
     "name": "stdout",
     "output_type": "stream",
     "text": [
      "the day6\n",
      "input the month7\n",
      "enter the year2020\n",
      "the examinatin will start in 6 / 7 / 2020\n"
     ]
    }
   ],
   "source": [
    "d=int( input('the day'))\n",
    "m=int (input('input the month'))\n",
    "y=int (input('enter the year'))\n",
    "print('the examinatin will start in', d,'/',m,'/',y)"
   ]
  },
  {
   "cell_type": "markdown",
   "metadata": {},
   "source": [
    "Q20"
   ]
  },
  {
   "cell_type": "code",
   "execution_count": 42,
   "metadata": {},
   "outputs": [
    {
     "name": "stdout",
     "output_type": "stream",
     "text": [
      "enter a number5\n",
      "155\n"
     ]
    }
   ],
   "source": [
    "x=int(input('enter a number'))\n",
    "z=x+(x*x)+(x*x*x)\n",
    "print(z)"
   ]
  },
  {
   "cell_type": "markdown",
   "metadata": {},
   "source": [
    "Q21"
   ]
  },
  {
   "cell_type": "code",
   "execution_count": 43,
   "metadata": {},
   "outputs": [
    {
     "name": "stdout",
     "output_type": "stream",
     "text": [
      "Return the absolute value of the argument.\n"
     ]
    }
   ],
   "source": [
    "print(abs.__doc__)"
   ]
  },
  {
   "cell_type": "markdown",
   "metadata": {},
   "source": [
    "Q22"
   ]
  }
 ],
 "metadata": {
  "kernelspec": {
   "display_name": "Python 3",
   "language": "python",
   "name": "python3"
  },
  "language_info": {
   "codemirror_mode": {
    "name": "ipython",
    "version": 3
   },
   "file_extension": ".py",
   "mimetype": "text/x-python",
   "name": "python",
   "nbconvert_exporter": "python",
   "pygments_lexer": "ipython3",
   "version": "3.7.3"
  }
 },
 "nbformat": 4,
 "nbformat_minor": 2
}
