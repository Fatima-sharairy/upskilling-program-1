{
 "cells": [
  {
   "cell_type": "markdown",
   "metadata": {},
   "source": [
    "Q1"
   ]
  },
  {
   "cell_type": "code",
   "execution_count": 15,
   "metadata": {},
   "outputs": [
    {
     "name": "stdout",
     "output_type": "stream",
     "text": [
      "enter a numbers22 44 55 66 \n",
      "['22', '44', '55', '66']\n",
      "55\n"
     ]
    }
   ],
   "source": [
    "list1=input('enter a numbers')\n",
    "l1=list(list1)\n",
    "l1=list1.split()\n",
    "l1.sort()\n",
    "print(l1)\n",
    "print(l1[-2])"
   ]
  },
  {
   "cell_type": "markdown",
   "metadata": {},
   "source": [
    "Q2"
   ]
  },
  {
   "cell_type": "code",
   "execution_count": 2,
   "metadata": {},
   "outputs": [
    {
     "name": "stdout",
     "output_type": "stream",
     "text": [
      "enter a list2 44 55 50\n",
      "['2', '44', '50', '55']\n",
      "the second largest num is 50\n",
      "the indix of it  2\n"
     ]
    }
   ],
   "source": [
    "list1=input('enter a list')\n",
    "l1=list(list1)\n",
    "l1=list1.split()\n",
    "l1.sort()\n",
    "print(l1)\n",
    "print('the second largest num is',l1[-2])\n",
    "x=l1[-2]\n",
    "print('the indix of it ',l1.index(x))"
   ]
  },
  {
   "cell_type": "markdown",
   "metadata": {},
   "source": [
    "Q3"
   ]
  },
  {
   "cell_type": "code",
   "execution_count": 9,
   "metadata": {},
   "outputs": [
    {
     "name": "stdout",
     "output_type": "stream",
     "text": [
      "enter a containersf\n",
      "f\n"
     ]
    }
   ],
   "source": [
    "x=input('enter a containers')\n",
    "print(x if x else 'empty')"
   ]
  },
  {
   "cell_type": "markdown",
   "metadata": {},
   "source": [
    "Q4"
   ]
  },
  {
   "cell_type": "code",
   "execution_count": null,
   "metadata": {},
   "outputs": [],
   "source": []
  },
  {
   "cell_type": "markdown",
   "metadata": {},
   "source": [
    "Q5"
   ]
  },
  {
   "cell_type": "code",
   "execution_count": 13,
   "metadata": {},
   "outputs": [
    {
     "name": "stdout",
     "output_type": "stream",
     "text": [
      "Enter a list33 55 77 6 5 4 7\n",
      "l1= ['33', '55']\n",
      "l2= ['77', '6']\n",
      "l3= ['5', '4']\n",
      "the rest ot element ['7']\n"
     ]
    }
   ],
   "source": [
    "l=input('Enter a list')\n",
    "l1=list(l)\n",
    "l1=l.split()\n",
    "x=len(l1)//3\n",
    "l2=l1[:x]\n",
    "print('l1=',l2)\n",
    "l3=l1[x:2*x]\n",
    "print('l2=',l3)\n",
    "l4=l1[2*x:3*x]\n",
    "print ('l3=',l4)\n",
    "l5=l1[3*x:]\n",
    "print('the rest ot element' ,l5)"
   ]
  },
  {
   "cell_type": "markdown",
   "metadata": {},
   "source": [
    "Q6"
   ]
  },
  {
   "cell_type": "code",
   "execution_count": 3,
   "metadata": {},
   "outputs": [
    {
     "name": "stdout",
     "output_type": "stream",
     "text": [
      "ente a list22 33 55 66 \n",
      "sorted enterd list is  ['22', '33', '55', '66']\n",
      "the revesed list is  ['66', '55', '33', '22']\n"
     ]
    }
   ],
   "source": [
    "li=input('ente a list')\n",
    "l1=list(li)\n",
    "l1=li.split()\n",
    "l1.sort()\n",
    "print('sorted enterd list is ',l1)\n",
    "l1.sort(reverse=True)\n",
    "print('the revesed list is ', l1)"
   ]
  },
  {
   "cell_type": "markdown",
   "metadata": {},
   "source": [
    "Q7"
   ]
  },
  {
   "cell_type": "code",
   "execution_count": 5,
   "metadata": {},
   "outputs": [
    {
     "name": "stdout",
     "output_type": "stream",
     "text": [
      "ente a list33 44 55 66 3 2 4\n",
      "['66', '55', '44', '4', '33', '3', '2']\n"
     ]
    }
   ],
   "source": [
    "li=input('ente a list')\n",
    "l1=list(li)\n",
    "l1=li.split()\n",
    "l1.sort(reverse=True)\n",
    "print(l1)"
   ]
  },
  {
   "cell_type": "markdown",
   "metadata": {},
   "source": [
    "##Q8 Write a Python program to flatten a 2-D list."
   ]
  },
  {
   "cell_type": "code",
   "execution_count": null,
   "metadata": {},
   "outputs": [],
   "source": []
  },
  {
   "cell_type": "markdown",
   "metadata": {},
   "source": [
    "Q9"
   ]
  },
  {
   "cell_type": "code",
   "execution_count": 1,
   "metadata": {},
   "outputs": [
    {
     "name": "stdout",
     "output_type": "stream",
     "text": [
      "ente a list2 3 4 1 5 6 7 \n",
      "['2', '3', '4', '1', '6', '7']\n",
      "None\n"
     ]
    }
   ],
   "source": [
    "li=input('ente a list')\n",
    "l1=list(li)\n",
    "l1=li.split()\n",
    "x=l1[4]\n",
    "l1.remove(x)\n",
    "print(l1)\n",
    "l1.insert()\n",
    "print(l2)"
   ]
  },
  {
   "cell_type": "markdown",
   "metadata": {},
   "source": [
    "Q10"
   ]
  },
  {
   "cell_type": "code",
   "execution_count": 7,
   "metadata": {},
   "outputs": [
    {
     "name": "stdout",
     "output_type": "stream",
     "text": [
      "set 1=  {3, 100, 5, 6, 11, 22}\n",
      "set 2=  {1, 4, 100, 5, 45, 80}\n",
      "set intersection= {100, 5}\n"
     ]
    }
   ],
   "source": [
    "l1=[11,3,5,6,22,100]\n",
    "l2=[100,5,4,45,1,80]\n",
    "s1=set(l1)\n",
    "s2=set(l2)\n",
    "print('set 1= ',s1)\n",
    "print('set 2= ',s2)\n",
    "print('set intersection=',s1.intersection(s2))"
   ]
  },
  {
   "cell_type": "markdown",
   "metadata": {},
   "source": [
    "Q11"
   ]
  },
  {
   "cell_type": "code",
   "execution_count": 13,
   "metadata": {},
   "outputs": [
    {
     "name": "stdout",
     "output_type": "stream",
     "text": [
      "tuple1= (7, 3, 5, 6)\n",
      "tuple2= (10, 5, 4, 8)\n",
      "(7, 10)\n",
      "(3, 5)\n",
      "(5, 4)\n",
      "(6, 8)\n"
     ]
    }
   ],
   "source": [
    "l1=[7,3,5,6]\n",
    "l2=[10,5,4,8]\n",
    "x=tuple(l1)\n",
    "print('tuple1=',x)\n",
    "z=tuple(l2)\n",
    "print('tuple2=',z)\n",
    "a,b,c,d=x\n",
    "A,B,C,D=z\n",
    "def fun():\n",
    "    return a,A\n",
    "print(fun())\n",
    "\n",
    "def fun():\n",
    "    return b,B\n",
    "print(fun())\n",
    "\n",
    "def fun():\n",
    "    return c,C\n",
    "print(fun())\n",
    "\n",
    "def fun():\n",
    "    return d,D\n",
    "print(fun())\n"
   ]
  },
  {
   "cell_type": "markdown",
   "metadata": {},
   "source": [
    "Q12"
   ]
  },
  {
   "cell_type": "code",
   "execution_count": 16,
   "metadata": {},
   "outputs": [
    {
     "name": "stdout",
     "output_type": "stream",
     "text": [
      "dict_items([('name', 'Fatima'), ('gender', 'female'), ('major', 'engineer'), ('phone num', 123123)])\n"
     ]
    }
   ],
   "source": [
    "dic1={\n",
    "    'name': 'Fatima',\n",
    "    'gender': 'female',\n",
    "    'major':'engineer',\n",
    "    'phone num': 123123\n",
    "}\n",
    "\n",
    "print(dic1.items())\n"
   ]
  },
  {
   "cell_type": "markdown",
   "metadata": {},
   "source": [
    "**Q13"
   ]
  },
  {
   "cell_type": "code",
   "execution_count": null,
   "metadata": {},
   "outputs": [],
   "source": []
  },
  {
   "cell_type": "markdown",
   "metadata": {},
   "source": [
    "Q14"
   ]
  },
  {
   "cell_type": "code",
   "execution_count": 40,
   "metadata": {},
   "outputs": [
    {
     "name": "stdout",
     "output_type": "stream",
     "text": [
      "dict_values([112233, 9876534, 1221])\n",
      "[112233, 9876534, 1221]\n"
     ]
    }
   ],
   "source": [
    "dict = {\"id\":112233, \"phone\":9876534, \"fax\":1221}\n",
    "print(dict.values())\n",
    "list1 = [ v for v in dict.values() ]\n",
    "print(list1)"
   ]
  },
  {
   "cell_type": "markdown",
   "metadata": {},
   "source": [
    "Q15"
   ]
  },
  {
   "cell_type": "code",
   "execution_count": 29,
   "metadata": {},
   "outputs": [
    {
     "name": "stdout",
     "output_type": "stream",
     "text": [
      "enter a numbers 6,8,9889,9\n",
      "list= ['6', '8', '9889', '9']\n",
      "tuple= ('6', '8', '9889', '9')\n"
     ]
    }
   ],
   "source": [
    "x=input('enter a numbers ')\n",
    "\n",
    "list1=list(x)\n",
    "list1=x.split(',')\n",
    "\n",
    "print('list=',list1)\n",
    "tuple1=tuple(list1)\n",
    "print('tuple=' ,tuple1)"
   ]
  },
  {
   "cell_type": "markdown",
   "metadata": {},
   "source": [
    "Q16"
   ]
  },
  {
   "cell_type": "code",
   "execution_count": 31,
   "metadata": {},
   "outputs": [
    {
     "name": "stdout",
     "output_type": "stream",
     "text": [
      "enter number76 4 4 8 9\n",
      "['76', '4', '4', '8', '9']\n",
      "count(4)= 2\n"
     ]
    }
   ],
   "source": [
    "x=input('enter number')\n",
    "list1=list(x)\n",
    "list1=x.split()\n",
    "print(list1)\n",
    "\n",
    "print('count(4)=',list1.count('4'))"
   ]
  },
  {
   "cell_type": "markdown",
   "metadata": {},
   "source": [
    "Q17"
   ]
  },
  {
   "cell_type": "code",
   "execution_count": 38,
   "metadata": {
    "scrolled": true
   },
   "outputs": [
    {
     "name": "stdout",
     "output_type": "stream",
     "text": [
      "386\n",
      "462\n",
      "418\n",
      "344\n",
      "236\n",
      "566\n",
      "978\n",
      "328\n",
      "162\n",
      "758\n",
      "918\n"
     ]
    }
   ],
   "source": [
    "numbers = [386, 462, 47, 418, 907, 344, 236, 375, 823, 566, 597, 978, 328, 615, 953, 345, 399,\n",
    "162, 758, 219, 918, 237, 412, 566, 826, 248, 866, 950, 626, 949, 687, 217, 815, 67, 104, 58, 512,\n",
    "24, 892, 894, 767, 553, 81, 379, 843, 831, 445, 742, 717, 958, 743, 527]\n",
    "\n",
    "  \n",
    "for num in numbers:\n",
    "    if num ==237:\n",
    "        break\n",
    "    if num% 2 == 0 :\n",
    "     print(num)\n",
    "    \n"
   ]
  },
  {
   "cell_type": "markdown",
   "metadata": {},
   "source": [
    "***Q18"
   ]
  },
  {
   "cell_type": "code",
   "execution_count": 20,
   "metadata": {},
   "outputs": [
    {
     "name": "stdout",
     "output_type": "stream",
     "text": [
      "Input third term of the series:7\n",
      "Input 3rd last term:456\n",
      "Sum of the series:87\n",
      "Length of the series:  0\n",
      "Series:\n",
      "186 "
     ]
    }
   ],
   "source": [
    "tn = int(input(\"Input third term of the series:\"))\n",
    "tltn = int(input(\"Input 3rd last term:\"))\n",
    "s_sum = int(input(\"Sum of the series:\"))\n",
    "n = int(2*s_sum/(tn+tltn))\n",
    "print(\"Length of the series: \",n)\n",
    "\n",
    "\n",
    "if n-5==0:\n",
    "  d = (s_sum-3*tn)//6\n",
    "else:\n",
    "  d = (tltn-tn)/(n-5)\n",
    "\n",
    "a = tn-2*d\n",
    "j = 0\n",
    "print(\"Series:\")\n",
    "for j in range(n-1):\n",
    "  print(int(a),end=\" \")\n",
    "  a+=d\n",
    "print(int(a),end=\" \")"
   ]
  },
  {
   "cell_type": "markdown",
   "metadata": {},
   "source": [
    "***Q19"
   ]
  },
  {
   "cell_type": "code",
   "execution_count": 22,
   "metadata": {},
   "outputs": [
    {
     "name": "stdout",
     "output_type": "stream",
     "text": [
      "Sorted:\n",
      "[(23, 45, 20), (89, 40, 23), (25, 44, 39)]\n"
     ]
    }
   ],
   "source": [
    "def last(n): \n",
    "    return n[m]   \n",
    "   \n",
    "def sort(tuples): \n",
    "  \n",
    "    return sorted(tuples, key = last) \n",
    "   \n",
    "a = [(23, 45, 20), (25, 44, 39), (89, 40, 23)] \n",
    "m = 2\n",
    "print(\"Sorted:\"), \n",
    "print(sort(a)) "
   ]
  },
  {
   "cell_type": "markdown",
   "metadata": {},
   "source": [
    "Q20"
   ]
  },
  {
   "cell_type": "code",
   "execution_count": 23,
   "metadata": {},
   "outputs": [
    {
     "name": "stdout",
     "output_type": "stream",
     "text": [
      "['p1', 'q1', 'p2', 'q2', 'p3', 'q3', 'p4', 'q4', 'p5', 'q5']\n"
     ]
    }
   ],
   "source": [
    "li = ['p', 'q']\n",
    "n = 5\n",
    "li1 = ['{}{}'.format(x, y) for y in range(1, n+1) for x in li]\n",
    "print(li1)"
   ]
  },
  {
   "cell_type": "markdown",
   "metadata": {},
   "source": [
    "Q21"
   ]
  },
  {
   "cell_type": "code",
   "execution_count": null,
   "metadata": {},
   "outputs": [],
   "source": []
  },
  {
   "cell_type": "markdown",
   "metadata": {},
   "source": [
    "Q22"
   ]
  },
  {
   "cell_type": "code",
   "execution_count": null,
   "metadata": {},
   "outputs": [],
   "source": []
  },
  {
   "cell_type": "markdown",
   "metadata": {},
   "source": [
    "Q23"
   ]
  },
  {
   "cell_type": "code",
   "execution_count": null,
   "metadata": {},
   "outputs": [],
   "source": []
  },
  {
   "cell_type": "markdown",
   "metadata": {},
   "source": [
    "Q24"
   ]
  },
  {
   "cell_type": "code",
   "execution_count": 4,
   "metadata": {},
   "outputs": [
    {
     "name": "stdout",
     "output_type": "stream",
     "text": [
      "[1, 3, 5]\n",
      "[2, 4, 6]\n"
     ]
    }
   ],
   "source": [
    "X = [[1,2],\n",
    "     [3 ,4],\n",
    "     [5 ,6]]\n",
    "\n",
    "z = [[0,0,0],\n",
    "     [0,0,0]]\n",
    "\n",
    "for i in range(len(X)):\n",
    "   for j in range(len(X[0])):\n",
    "       z[j][i] = X[i][j]\n",
    "\n",
    "for y in z:\n",
    "   print(y)"
   ]
  },
  {
   "cell_type": "markdown",
   "metadata": {},
   "source": [
    "Q25"
   ]
  },
  {
   "cell_type": "code",
   "execution_count": 5,
   "metadata": {},
   "outputs": [
    {
     "name": "stdout",
     "output_type": "stream",
     "text": [
      "[26, 17, 28]\n",
      "[17, 9, 11]\n"
     ]
    }
   ],
   "source": [
    "X = [[1,3,6],\n",
    "    [2 ,1,2]]\n",
    "Y = [[5,2,1],\n",
    "    [7,5,9]]\n",
    "z=[[0,0,0],\n",
    "  [0,0,0]]\n",
    "\n",
    "for i in range(len(X)):\n",
    "   for j in range(len(Y[0])):\n",
    "       for k in range(len(Y)):\n",
    "           z[i][j] += X[i][k] * Y[k][j]\n",
    "\n",
    "for c in z:\n",
    "   print(c)"
   ]
  },
  {
   "cell_type": "markdown",
   "metadata": {},
   "source": [
    "Q26"
   ]
  },
  {
   "cell_type": "code",
   "execution_count": null,
   "metadata": {},
   "outputs": [],
   "source": []
  },
  {
   "cell_type": "markdown",
   "metadata": {},
   "source": [
    "Q27"
   ]
  },
  {
   "cell_type": "code",
   "execution_count": null,
   "metadata": {},
   "outputs": [],
   "source": []
  },
  {
   "cell_type": "markdown",
   "metadata": {},
   "source": [
    "Q28"
   ]
  },
  {
   "cell_type": "code",
   "execution_count": null,
   "metadata": {},
   "outputs": [],
   "source": []
  },
  {
   "cell_type": "markdown",
   "metadata": {},
   "source": [
    "Q29"
   ]
  },
  {
   "cell_type": "code",
   "execution_count": null,
   "metadata": {},
   "outputs": [],
   "source": []
  },
  {
   "cell_type": "markdown",
   "metadata": {},
   "source": [
    "Q30"
   ]
  },
  {
   "cell_type": "code",
   "execution_count": 7,
   "metadata": {},
   "outputs": [
    {
     "name": "stdout",
     "output_type": "stream",
     "text": [
      "[{'V': 'S001'}, {'V': 'S002'}, {'VI': 'S001'}, {'VI': 'S005'}, {'VII': 'S005'}, {'V': 'S009'}, {'VIII': 'S007'}]\n",
      "Unique Values:  {'S002', 'S005', 'S009', 'S001', 'S007'}\n"
     ]
    }
   ],
   "source": [
    "x = [{\"V\":\"S001\"}, {\"V\": \"S002\"}, {\"VI\": \"S001\"}, {\"VI\": \"S005\"}, {\"VII\":\"S005\"}, {\"V\":\"S009\"},{\"VIII\":\"S007\"}]\n",
    "print(x)\n",
    "value = set( val for dic in x for val in dic.values())\n",
    "print(\"Unique Values: \",value)"
   ]
  },
  {
   "cell_type": "markdown",
   "metadata": {},
   "source": [
    "Q31"
   ]
  },
  {
   "cell_type": "code",
   "execution_count": null,
   "metadata": {},
   "outputs": [],
   "source": []
  },
  {
   "cell_type": "markdown",
   "metadata": {},
   "source": [
    "Q32"
   ]
  },
  {
   "cell_type": "code",
   "execution_count": null,
   "metadata": {},
   "outputs": [],
   "source": []
  },
  {
   "cell_type": "markdown",
   "metadata": {},
   "source": [
    "Q35"
   ]
  },
  {
   "cell_type": "code",
   "execution_count": 9,
   "metadata": {},
   "outputs": [
    {
     "name": "stdout",
     "output_type": "stream",
     "text": [
      "{'White', 'Black'}\n"
     ]
    }
   ],
   "source": [
    "list_1 = set(['White', 'Black', 'Red'])\n",
    "list_2 =set (['Red', 'Green'])\n",
    "\n",
    "print(list_1.difference(list_2))\n"
   ]
  },
  {
   "cell_type": "markdown",
   "metadata": {},
   "source": [
    "Q37"
   ]
  },
  {
   "cell_type": "code",
   "execution_count": null,
   "metadata": {},
   "outputs": [],
   "source": []
  },
  {
   "cell_type": "markdown",
   "metadata": {},
   "source": [
    "Q38"
   ]
  },
  {
   "cell_type": "code",
   "execution_count": null,
   "metadata": {},
   "outputs": [],
   "source": []
  },
  {
   "cell_type": "markdown",
   "metadata": {},
   "source": [
    "Q39"
   ]
  },
  {
   "cell_type": "code",
   "execution_count": null,
   "metadata": {},
   "outputs": [],
   "source": []
  },
  {
   "cell_type": "markdown",
   "metadata": {},
   "source": [
    "Q40"
   ]
  },
  {
   "cell_type": "code",
   "execution_count": null,
   "metadata": {},
   "outputs": [],
   "source": []
  },
  {
   "cell_type": "markdown",
   "metadata": {},
   "source": [
    "Q41"
   ]
  },
  {
   "cell_type": "code",
   "execution_count": null,
   "metadata": {},
   "outputs": [],
   "source": []
  },
  {
   "cell_type": "markdown",
   "metadata": {},
   "source": [
    "Q42"
   ]
  },
  {
   "cell_type": "code",
   "execution_count": null,
   "metadata": {},
   "outputs": [],
   "source": []
  },
  {
   "cell_type": "markdown",
   "metadata": {},
   "source": [
    "Q46"
   ]
  },
  {
   "cell_type": "code",
   "execution_count": 2,
   "metadata": {},
   "outputs": [
    {
     "name": "stdout",
     "output_type": "stream",
     "text": [
      "{'sum': 27}\n"
     ]
    }
   ],
   "source": [
    "dic = {'num1':10,'num2':4,'num3':13}\n",
    "\n",
    "num1 = dic.pop('num1')\n",
    "num2 = dic.pop('num2')\n",
    "num3 = dic.pop('num3')\n",
    "dic['sum'] = (num1+num2+num3)\n",
    "    \n",
    "print(dic)"
   ]
  }
 ],
 "metadata": {
  "kernelspec": {
   "display_name": "Python 3",
   "language": "python",
   "name": "python3"
  },
  "language_info": {
   "codemirror_mode": {
    "name": "ipython",
    "version": 3
   },
   "file_extension": ".py",
   "mimetype": "text/x-python",
   "name": "python",
   "nbconvert_exporter": "python",
   "pygments_lexer": "ipython3",
   "version": "3.7.3"
  }
 },
 "nbformat": 4,
 "nbformat_minor": 2
}
