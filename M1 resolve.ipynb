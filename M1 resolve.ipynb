{
 "cells": [
  {
   "cell_type": "code",
   "execution_count": null,
   "metadata": {},
   "outputs": [],
   "source": [
    "Q1"
   ]
  },
  {
   "cell_type": "code",
   "execution_count": 5,
   "metadata": {},
   "outputs": [
    {
     "name": "stdout",
     "output_type": "stream",
     "text": [
      "Fatima 1991\n",
      "<class 'str'>\n",
      "<class 'int'>\n"
     ]
    }
   ],
   "source": [
    "print('Fatima',1991)\n",
    "print(type('fatima'))\n",
    "print(type(1991))\n"
   ]
  },
  {
   "cell_type": "markdown",
   "metadata": {},
   "source": [
    "Q2"
   ]
  },
  {
   "cell_type": "code",
   "execution_count": 6,
   "metadata": {},
   "outputs": [
    {
     "name": "stdout",
     "output_type": "stream",
     "text": [
      "444222\n"
     ]
    }
   ],
   "source": [
    "print(444,end='')\n",
    "print(222)"
   ]
  },
  {
   "cell_type": "markdown",
   "metadata": {},
   "source": [
    "Q3"
   ]
  },
  {
   "cell_type": "code",
   "execution_count": 7,
   "metadata": {},
   "outputs": [
    {
     "name": "stdout",
     "output_type": "stream",
     "text": [
      "enter a number16\n",
      "16 is divisable by 3\n"
     ]
    }
   ],
   "source": [
    "x=int(input('enter a number'))\n",
    "if (x % 3)==0:\n",
    "    print(x,'is divisable by 3')\n",
    "else: \n",
    "        print(x,'is divisable by 3')"
   ]
  },
  {
   "cell_type": "markdown",
   "metadata": {},
   "source": [
    "Q4"
   ]
  },
  {
   "cell_type": "code",
   "execution_count": 15,
   "metadata": {},
   "outputs": [
    {
     "name": "stdout",
     "output_type": "stream",
     "text": [
      "Input first number: 3\n",
      "Input second number: 2\n",
      "Input third number: 1\n",
      "-21.166666666666668\n",
      "-15.125\n"
     ]
    }
   ],
   "source": [
    "a = int(input(\"Input first number: \"))\n",
    "b = int(input(\"Input second number: \"))\n",
    "c = int(input(\"Input third number: \"))\n",
    "\n",
    "x1=((-b+c**4) / (2*a)) - ((3*(a+b**2))/c)\n",
    "x2=((a+b**3)**2/(c-a**2))\n",
    "\n",
    "print (x1)\n",
    "print (x2)"
   ]
  },
  {
   "cell_type": "markdown",
   "metadata": {},
   "source": [
    "Q5"
   ]
  },
  {
   "cell_type": "code",
   "execution_count": null,
   "metadata": {},
   "outputs": [],
   "source": [
    "a,b = input('Enter two numbers: ').split(' ')\n",
    "a=int(a)\n",
    "b=int(b)\n",
    "print(max(a,b))"
   ]
  },
  {
   "cell_type": "markdown",
   "metadata": {},
   "source": [
    "Q6"
   ]
  },
  {
   "cell_type": "code",
   "execution_count": 2,
   "metadata": {},
   "outputs": [
    {
     "name": "stdout",
     "output_type": "stream",
     "text": [
      "Enter three numbers: 2 3 5\n",
      "5\n"
     ]
    }
   ],
   "source": [
    "a,b,c = input('Enter three numbers: ').split(' ')\n",
    "a=int(a)\n",
    "b=int(b)\n",
    "c=int(c)\n",
    "print(max(a,b,c))"
   ]
  },
  {
   "cell_type": "markdown",
   "metadata": {},
   "source": [
    "Q7"
   ]
  },
  {
   "cell_type": "code",
   "execution_count": 4,
   "metadata": {},
   "outputs": [
    {
     "name": "stdout",
     "output_type": "stream",
     "text": [
      "enter a number6\n",
      "enter a number2\n",
      "3.0\n"
     ]
    }
   ],
   "source": [
    "a=input('enter a number')\n",
    "b=input('enter a number')\n",
    "a=int(a)\n",
    "b=int(b)\n",
    "if b==0 :\n",
    "     print('b is zero')\n",
    "else:\n",
    "    print(a/b)"
   ]
  },
  {
   "cell_type": "markdown",
   "metadata": {},
   "source": [
    "**Q8"
   ]
  },
  {
   "cell_type": "code",
   "execution_count": 12,
   "metadata": {},
   "outputs": [
    {
     "name": "stdout",
     "output_type": "stream",
     "text": [
      "years =  13 \n",
      "weeks =  36 \n",
      "days =  3\n"
     ]
    }
   ],
   "source": [
    "DAYS_IN_WEEK = 7\n",
    "  \n",
    "# Function to find  \n",
    "# year, week, days  \n",
    "def find( number_of_days ): \n",
    "  \n",
    "\n",
    "    year = int(number_of_days / 365) \n",
    "    week = int((number_of_days % 365) / \n",
    "                DAYS_IN_WEEK) \n",
    "    days = (number_of_days % 365) % DAYS_IN_WEEK \n",
    "      \n",
    "    print(\"years = \",year, \n",
    "          \"\\nweeks = \",week, \n",
    "          \"\\ndays = \",days) \n",
    "      \n",
    "# Driver Code \n",
    "number_of_days = 5000\n",
    "find(number_of_days) "
   ]
  },
  {
   "cell_type": "markdown",
   "metadata": {},
   "source": [
    "Q9"
   ]
  },
  {
   "cell_type": "code",
   "execution_count": 13,
   "metadata": {},
   "outputs": [
    {
     "name": "stdout",
     "output_type": "stream",
     "text": [
      "enter temp in celsius36\n",
      "96.8\n"
     ]
    }
   ],
   "source": [
    "celsius=int (input('enter temp in celsius'))\n",
    "fahrenheit = (celsius * 1.8) + 32\n",
    "print (fahrenheit)"
   ]
  },
  {
   "cell_type": "markdown",
   "metadata": {},
   "source": [
    "#Q10 : not solved\n"
   ]
  },
  {
   "cell_type": "code",
   "execution_count": 12,
   "metadata": {},
   "outputs": [
    {
     "name": "stdout",
     "output_type": "stream",
     "text": [
      "enter num2.4\n",
      "ente num2.2\n",
      "2.0\n"
     ]
    }
   ],
   "source": [
    "x=float(input('enter num'))\n",
    "y=float(input('ente num'))\n",
    "z=float((x*2 - y*2)/(x-y))\n",
    "print(z)"
   ]
  },
  {
   "cell_type": "markdown",
   "metadata": {},
   "source": [
    "Q11"
   ]
  },
  {
   "cell_type": "code",
   "execution_count": 17,
   "metadata": {},
   "outputs": [
    {
     "name": "stdout",
     "output_type": "stream",
     "text": [
      "inter the Q range50\n",
      "Extremly low\n"
     ]
    }
   ],
   "source": [
    "Qrange=int (input('inter the Q range'))\n",
    "if Qrange >130:\n",
    "    print('Very Superior')\n",
    "if 129 > Qrange > 120:\n",
    "    print('Superior')\n",
    "if 119 > Qrange > 110:\n",
    "    print('High Average')\n",
    "if 109 > Qrange > 90:\n",
    "    print( 'Average')\n",
    "if 89 > Qrange > 80:\n",
    "    print('low Average')\n",
    "if 79 > Qrange > 70:\n",
    "    print('Borderline')\n",
    "if Qrange<69 :\n",
    "    print('Extremly low')\n",
    "\n"
   ]
  },
  {
   "cell_type": "markdown",
   "metadata": {},
   "source": [
    "Q12"
   ]
  },
  {
   "cell_type": "code",
   "execution_count": 18,
   "metadata": {},
   "outputs": [
    {
     "name": "stdout",
     "output_type": "stream",
     "text": [
      "enter the student mark70\n",
      "C\n"
     ]
    }
   ],
   "source": [
    "StudentMark=int(input('enter the student mark'))\n",
    "\n",
    "if 100 > StudentMark >= 90:\n",
    "    print('A')\n",
    "if 90 > StudentMark >= 80:\n",
    "    print(' B')\n",
    "if 80 > StudentMark >= 70:\n",
    "    print( 'C')\n",
    "if 70 > StudentMark >= 60:\n",
    "    print('D')\n",
    "if 60 > StudentMark >= 50:\n",
    "    print('E')\n",
    "    \n",
    "\n"
   ]
  },
  {
   "cell_type": "markdown",
   "metadata": {},
   "source": [
    "Q14"
   ]
  },
  {
   "cell_type": "code",
   "execution_count": 5,
   "metadata": {},
   "outputs": [
    {
     "name": "stdout",
     "output_type": "stream",
     "text": [
      "Input a letter of the alphabet: e\n",
      "e  is a vowel.\n"
     ]
    }
   ],
   "source": [
    "l = input(\"Input a letter of the alphabet: \")\n",
    "\n",
    "if l in ('a', 'e', 'i', 'o', 'u','A','E','I','O','U'):\n",
    "    print(l,\" is a vowel.\")\n",
    "\n",
    "else:\n",
    "    print(l,\" is a consonant.\") \n"
   ]
  },
  {
   "cell_type": "markdown",
   "metadata": {},
   "source": [
    "Q15\n"
   ]
  },
  {
   "cell_type": "code",
   "execution_count": 31,
   "metadata": {},
   "outputs": [
    {
     "name": "stdout",
     "output_type": "stream",
     "text": [
      "Enter a number: 8\n",
      "8  is Even\n"
     ]
    }
   ],
   "source": [
    "num = int(input(\"Enter a number: \"))\n",
    "if (num % 2) == 0:\n",
    "   print(num,\" is Even\")\n",
    "else:\n",
    "   print(num,\" is Odd\")"
   ]
  },
  {
   "cell_type": "markdown",
   "metadata": {},
   "source": [
    "**Q16\n"
   ]
  },
  {
   "cell_type": "code",
   "execution_count": 33,
   "metadata": {},
   "outputs": [
    {
     "name": "stdout",
     "output_type": "stream",
     "text": [
      "Current date and time: \n",
      "2019-10-10 11:28:30.858664\n"
     ]
    }
   ],
   "source": [
    "import datetime\n",
    "now = datetime.datetime.now()\n",
    "print(\"Current date and time: \")\n",
    "print(str(now))"
   ]
  },
  {
   "cell_type": "markdown",
   "metadata": {},
   "source": [
    "Q17"
   ]
  },
  {
   "cell_type": "code",
   "execution_count": 35,
   "metadata": {},
   "outputs": [
    {
     "name": "stdout",
     "output_type": "stream",
     "text": [
      "enter the radius2\n",
      "12.56 is the circle area\n"
     ]
    }
   ],
   "source": [
    "r=int(input('enter the radius'))\n",
    "x=r*r*3.14\n",
    "print(x,'is the circle area')"
   ]
  },
  {
   "cell_type": "markdown",
   "metadata": {},
   "source": [
    "Q18\n"
   ]
  },
  {
   "cell_type": "code",
   "execution_count": 3,
   "metadata": {},
   "outputs": [
    {
     "name": "stdout",
     "output_type": "stream",
     "text": [
      "enter your namefatima shah\n",
      "hahs amitaf\n"
     ]
    }
   ],
   "source": [
    "x=input('enter your name')\n",
    "print(x[-1::-1])"
   ]
  },
  {
   "cell_type": "markdown",
   "metadata": {},
   "source": [
    "**Q19"
   ]
  },
  {
   "cell_type": "code",
   "execution_count": 38,
   "metadata": {},
   "outputs": [
    {
     "name": "stdout",
     "output_type": "stream",
     "text": [
      "the day6\n",
      "input the month7\n",
      "enter the year2020\n",
      "the examinatin will start in 6 / 7 / 2020\n"
     ]
    }
   ],
   "source": [
    "d=int( input('the day'))\n",
    "m=int (input('input the month'))\n",
    "y=int (input('enter the year'))\n",
    "print('the examinatin will start in', d,'/',m,'/',y)"
   ]
  },
  {
   "cell_type": "markdown",
   "metadata": {},
   "source": [
    "Q20"
   ]
  },
  {
   "cell_type": "code",
   "execution_count": 42,
   "metadata": {},
   "outputs": [
    {
     "name": "stdout",
     "output_type": "stream",
     "text": [
      "enter a number5\n",
      "155\n"
     ]
    }
   ],
   "source": [
    "x=int(input('enter a number'))\n",
    "z=x+(x*x)+(x*x*x)\n",
    "print(z)"
   ]
  },
  {
   "cell_type": "markdown",
   "metadata": {},
   "source": [
    "Q21"
   ]
  },
  {
   "cell_type": "code",
   "execution_count": 1,
   "metadata": {},
   "outputs": [
    {
     "name": "stdout",
     "output_type": "stream",
     "text": [
      "Help on built-in function print in module builtins:\n",
      "\n",
      "print(...)\n",
      "    print(value, ..., sep=' ', end='\\n', file=sys.stdout, flush=False)\n",
      "    \n",
      "    Prints the values to a stream, or to sys.stdout by default.\n",
      "    Optional keyword arguments:\n",
      "    file:  a file-like object (stream); defaults to the current sys.stdout.\n",
      "    sep:   string inserted between values, default a space.\n",
      "    end:   string appended after the last value, default a newline.\n",
      "    flush: whether to forcibly flush the stream.\n",
      "\n"
     ]
    }
   ],
   "source": [
    "help(print) \n"
   ]
  },
  {
   "cell_type": "markdown",
   "metadata": {},
   "source": [
    "Q22"
   ]
  },
  {
   "cell_type": "code",
   "execution_count": 8,
   "metadata": {},
   "outputs": [
    {
     "data": {
      "text/plain": [
       "'\\na string that you ”don’t” have to escape\\nThis\\nis a ....... multi-line\\nheredoc string ——–> example\\n'"
      ]
     },
     "execution_count": 8,
     "metadata": {},
     "output_type": "execute_result"
    }
   ],
   "source": [
    "'''\n",
    "a string that you ”don’t” have to escape\n",
    "This\n",
    "is a ....... multi-line\n",
    "heredoc string ——–> example\n",
    "'''"
   ]
  },
  {
   "cell_type": "markdown",
   "metadata": {},
   "source": [
    "**Q23"
   ]
  },
  {
   "cell_type": "code",
   "execution_count": 17,
   "metadata": {},
   "outputs": [
    {
     "name": "stdout",
     "output_type": "stream",
     "text": [
      "9\n"
     ]
    }
   ],
   "source": [
    "from datetime import date\n",
    "day1= date(2014, 7, 2)\n",
    "day2 = date(2014, 7, 11)\n",
    "num = day2 - day1\n",
    "print(num.days)"
   ]
  },
  {
   "cell_type": "markdown",
   "metadata": {},
   "source": [
    "Q24"
   ]
  },
  {
   "cell_type": "code",
   "execution_count": 19,
   "metadata": {},
   "outputs": [
    {
     "name": "stdout",
     "output_type": "stream",
     "text": [
      "enter the radius6\n",
      "volume is:  904.3199999999999\n"
     ]
    }
   ],
   "source": [
    "r=int(input('enter the radius'))\n",
    "pi=3.14\n",
    "volum= 4/3*pi* r**3\n",
    "print('volume is: ',volum)"
   ]
  },
  {
   "cell_type": "markdown",
   "metadata": {},
   "source": [
    "Q25"
   ]
  },
  {
   "cell_type": "code",
   "execution_count": 26,
   "metadata": {},
   "outputs": [
    {
     "name": "stdout",
     "output_type": "stream",
     "text": [
      "enter num20\n",
      "-3\n",
      "6\n"
     ]
    }
   ],
   "source": [
    "x=int(input('enter num'))\n",
    "\n",
    "print(17-x)\n",
    "if x > 17:\n",
    "        z=(x-17)*2\n",
    "        print (z)"
   ]
  },
  {
   "cell_type": "markdown",
   "metadata": {},
   "source": [
    "Q26"
   ]
  },
  {
   "cell_type": "code",
   "execution_count": 30,
   "metadata": {},
   "outputs": [
    {
     "name": "stdout",
     "output_type": "stream",
     "text": [
      "enter numbe1500\n",
      "num is less than 2000\n",
      "7500.0\n"
     ]
    }
   ],
   "source": [
    "x=int(input('enter numbe'))\n",
    "\n",
    "if x<100:\n",
    "    print('num is less than 100')\n",
    "    print(x/5 *25)\n",
    "if 100<x<1000:\n",
    "        print('num is less than 1000')\n",
    "\n",
    "        print(x/5 *25)\n",
    "\n",
    "if 1000<x<2000:\n",
    "        print('num is less than 2000')\n",
    "\n",
    "        print(x/5 *25)\n",
    "\n",
    "    "
   ]
  },
  {
   "cell_type": "markdown",
   "metadata": {},
   "source": [
    "Q27"
   ]
  },
  {
   "cell_type": "code",
   "execution_count": 8,
   "metadata": {},
   "outputs": [
    {
     "name": "stdout",
     "output_type": "stream",
     "text": [
      "entwr fist num3\n",
      "enter sec num4\n",
      "ente thrd num3\n",
      "10\n"
     ]
    }
   ],
   "source": [
    "int1=int(input('entwr fist num'))\n",
    "int2=int(input('enter sec num'))\n",
    "int3=int(input('ente thrd num'))\n",
    "sum1=int1+int2+int3\n",
    "print(sum1)\n",
    "if int1==int2==int3:\n",
    "    print('sum=',sum1*3)"
   ]
  },
  {
   "cell_type": "markdown",
   "metadata": {},
   "source": [
    "Q28\n"
   ]
  },
  {
   "cell_type": "code",
   "execution_count": 10,
   "metadata": {},
   "outputs": [
    {
     "name": "stdout",
     "output_type": "stream",
     "text": [
      "enter num2\n",
      "enter num3\n",
      "a= 2 b= 3\n",
      "a= 3 b= 2\n"
     ]
    }
   ],
   "source": [
    "a=int(input('enter num'))\n",
    "b= int(input('enter num'))\n",
    "print('a=',a,'b=',b)\n",
    "x=b\n",
    "b=a\n",
    "a=x\n",
    "print('a=',a,'b=',b)"
   ]
  },
  {
   "cell_type": "markdown",
   "metadata": {},
   "source": [
    "**Q29"
   ]
  },
  {
   "cell_type": "code",
   "execution_count": null,
   "metadata": {},
   "outputs": [],
   "source": []
  },
  {
   "cell_type": "markdown",
   "metadata": {},
   "source": [
    "Q30"
   ]
  },
  {
   "cell_type": "code",
   "execution_count": 14,
   "metadata": {},
   "outputs": [
    {
     "name": "stdout",
     "output_type": "stream",
     "text": [
      "enter the base of the triangle3\n",
      "enter the hight of the triangle5\n",
      "the area = 7.5\n"
     ]
    }
   ],
   "source": [
    "x=float(input('enter the base of the triangle'))\n",
    "y=float(input('enter the hight of the triangle'))\n",
    "\n",
    "z=float(0.5*x*y)\n",
    "\n",
    "print('the area =', z)"
   ]
  },
  {
   "cell_type": "markdown",
   "metadata": {},
   "source": [
    "Q31"
   ]
  },
  {
   "cell_type": "code",
   "execution_count": 22,
   "metadata": {},
   "outputs": [
    {
     "name": "stdout",
     "output_type": "stream",
     "text": [
      "2\n",
      "3\n",
      "2\n",
      "0\n"
     ]
    }
   ],
   "source": [
    "a=int(input())\n",
    "b=int(input())\n",
    "c=int(input())\n",
    "s=0\n",
    "q=a+b+c\n",
    "if a==b or a==c or b==c:\n",
    "    print(s)\n",
    "\n",
    "else:\n",
    " print(q)"
   ]
  },
  {
   "cell_type": "markdown",
   "metadata": {},
   "source": [
    "Q32"
   ]
  },
  {
   "cell_type": "code",
   "execution_count": 13,
   "metadata": {},
   "outputs": [
    {
     "name": "stdout",
     "output_type": "stream",
     "text": [
      "enter num12\n",
      "enter num4\n",
      "20\n"
     ]
    }
   ],
   "source": [
    "a=int(input('enter num'))\n",
    "b=int(input('enter num'))\n",
    "z=int(a+b)\n",
    "\n",
    "if 15<z<20:\n",
    "    print( '20')\n",
    "if 30<z<40:\n",
    "    print('50')\n",
    "if 155<z<167:\n",
    "    print('210')\n"
   ]
  },
  {
   "cell_type": "markdown",
   "metadata": {},
   "source": [
    "Q33"
   ]
  },
  {
   "cell_type": "code",
   "execution_count": 12,
   "metadata": {},
   "outputs": [
    {
     "name": "stdout",
     "output_type": "stream",
     "text": [
      "15\n",
      "5\n",
      "False\n"
     ]
    }
   ],
   "source": [
    "x=int(input('enter num'))\n",
    "y=int(input('enter num'))\n",
    "if x == y or (x-y) == 5 or (x+y) == 5:\n",
    "        print ('True')\n",
    "else:\n",
    "        print( 'False')"
   ]
  },
  {
   "cell_type": "markdown",
   "metadata": {},
   "source": [
    "Q34"
   ]
  },
  {
   "cell_type": "code",
   "execution_count": 18,
   "metadata": {},
   "outputs": [
    {
     "name": "stdout",
     "output_type": "stream",
     "text": [
      "enter num3\n",
      "enter num4\n",
      "(( 3 + 4 )^2)= 49\n"
     ]
    }
   ],
   "source": [
    "x=int(input('enter num'))\n",
    "y=int(input('enter num'))\n",
    "z=(x + y)*(x + y)\n",
    "\n",
    "print('((',x,'+',y,')^2)=',z)"
   ]
  },
  {
   "cell_type": "markdown",
   "metadata": {},
   "source": [
    "Q35"
   ]
  },
  {
   "cell_type": "code",
   "execution_count": null,
   "metadata": {},
   "outputs": [],
   "source": []
  },
  {
   "cell_type": "markdown",
   "metadata": {},
   "source": [
    "Q36"
   ]
  },
  {
   "cell_type": "code",
   "execution_count": 46,
   "metadata": {},
   "outputs": [
    {
     "name": "stdout",
     "output_type": "stream",
     "text": [
      "distance= 7\n"
     ]
    }
   ],
   "source": [
    "x1=3\n",
    "x2=6\n",
    "y1=3\n",
    "y2=10\n",
    "\n",
    "d=int(((x2 - x1)**2+(y2 - y1)**2)**0.5)\n",
    "print('distance=',d)"
   ]
  },
  {
   "cell_type": "markdown",
   "metadata": {},
   "source": [
    "**Q37"
   ]
  },
  {
   "cell_type": "code",
   "execution_count": 31,
   "metadata": {},
   "outputs": [
    {
     "name": "stdout",
     "output_type": "stream",
     "text": [
      "50000\n",
      "z is more than 100\n",
      "duration= 0:00:00.001000\n"
     ]
    }
   ],
   "source": [
    "from datetime import datetime\n",
    "start_time = datetime.now()\n",
    "x=5\n",
    "y=10\n",
    "z=x*y*1000\n",
    "print(z)\n",
    "\n",
    "if z>100:\n",
    " print('z is more than 100')\n",
    "\n",
    "end_time = datetime.now()\n",
    "print('duration=',end_time - start_time)\n"
   ]
  },
  {
   "cell_type": "markdown",
   "metadata": {},
   "source": [
    "Q38"
   ]
  },
  {
   "cell_type": "code",
   "execution_count": 35,
   "metadata": {},
   "outputs": [
    {
     "name": "stdout",
     "output_type": "stream",
     "text": [
      "enter the height in inch200\n",
      "The length in cm 507.61421319796955\n"
     ]
    }
   ],
   "source": [
    "inch=int(input(\"enter the height in inch\"))\n",
    "cm=inch/0.394\n",
    "print(\"The length in cm\",cm)\n"
   ]
  },
  {
   "cell_type": "markdown",
   "metadata": {},
   "source": [
    "Q40"
   ]
  },
  {
   "cell_type": "code",
   "execution_count": 40,
   "metadata": {},
   "outputs": [
    {
     "name": "stdout",
     "output_type": "stream",
     "text": [
      "Input distance in feet: 200\n",
      "The distance in inches is  inches. 2400\n",
      "The distance in yards is  yards. 66.66666666666667\n",
      "The distance in miles is  miles. 0.03787878787878788\n"
     ]
    }
   ],
   "source": [
    "feet = int(input(\"Input distance in feet: \"))\n",
    "inch = feet * 12\n",
    "yard = feet / 3.0\n",
    "mile = feet / 5280.0\n",
    " \n",
    "print(\"The distance in inches is  inch.\"  ,inch)\n",
    "print(\"The distance in yards is  yard.\" , yard)\n",
    "print(\"The distance in miles is  mile.\", mile)"
   ]
  },
  {
   "cell_type": "markdown",
   "metadata": {},
   "source": [
    "Q41"
   ]
  },
  {
   "cell_type": "code",
   "execution_count": null,
   "metadata": {},
   "outputs": [],
   "source": []
  },
  {
   "cell_type": "markdown",
   "metadata": {},
   "source": [
    "Q42"
   ]
  },
  {
   "cell_type": "code",
   "execution_count": null,
   "metadata": {},
   "outputs": [],
   "source": []
  },
  {
   "cell_type": "markdown",
   "metadata": {},
   "source": [
    "Q43"
   ]
  },
  {
   "cell_type": "code",
   "execution_count": 64,
   "metadata": {},
   "outputs": [
    {
     "name": "stdout",
     "output_type": "stream",
     "text": [
      "enter high in cm160\n",
      "enter whieght in kilo60\n",
      "your mass = 2343.75\n"
     ]
    }
   ],
   "source": [
    "high=float(input('enter high in cm'))\n",
    "high1=high/1000\n",
    "wieght=float(input('enter whieght in kilo'))\n",
    "mass=float(wieght/high1 **2)\n",
    "print('your mass =',mass)"
   ]
  },
  {
   "cell_type": "markdown",
   "metadata": {},
   "source": [
    "Q44"
   ]
  },
  {
   "cell_type": "code",
   "execution_count": 68,
   "metadata": {},
   "outputs": [
    {
     "name": "stdout",
     "output_type": "stream",
     "text": [
      "[2, 4, 5, 6]\n"
     ]
    }
   ],
   "source": [
    "x=[2,4,5,6]\n",
    "print(sorted(x))"
   ]
  },
  {
   "cell_type": "markdown",
   "metadata": {},
   "source": [
    "Q45"
   ]
  },
  {
   "cell_type": "code",
   "execution_count": 53,
   "metadata": {},
   "outputs": [
    {
     "name": "stdout",
     "output_type": "stream",
     "text": [
      "Help on built-in function sum in module builtins:\n",
      "\n",
      "sum(iterable, start=0, /)\n",
      "    Return the sum of a 'start' value (default: 0) plus an iterable of numbers\n",
      "    \n",
      "    When the iterable is empty, return the start value.\n",
      "    This function is intended specifically for use with numeric values and may\n",
      "    reject non-numeric types.\n",
      "\n"
     ]
    }
   ],
   "source": [
    "help(sum)"
   ]
  },
  {
   "cell_type": "markdown",
   "metadata": {},
   "source": [
    "Q46\n"
   ]
  },
  {
   "cell_type": "code",
   "execution_count": 65,
   "metadata": {},
   "outputs": [
    {
     "name": "stdout",
     "output_type": "stream",
     "text": [
      "enter a chrF\n",
      "70\n"
     ]
    }
   ],
   "source": [
    "x=input('enter a chr')\n",
    "print(ord(x))"
   ]
  },
  {
   "cell_type": "markdown",
   "metadata": {},
   "source": [
    "Q47"
   ]
  },
  {
   "cell_type": "code",
   "execution_count": null,
   "metadata": {},
   "outputs": [],
   "source": []
  },
  {
   "cell_type": "markdown",
   "metadata": {},
   "source": [
    "Q48"
   ]
  },
  {
   "cell_type": "code",
   "execution_count": 2,
   "metadata": {},
   "outputs": [
    {
     "name": "stdout",
     "output_type": "stream",
     "text": [
      "enter a stringgkjhfjbfhjkjfbjk\n",
      "the size in bytes\n"
     ]
    },
    {
     "data": {
      "text/plain": [
       "40"
      ]
     },
     "execution_count": 2,
     "metadata": {},
     "output_type": "execute_result"
    }
   ],
   "source": [
    "import sys\n",
    "\n",
    "x =input('enter a string') \n",
    "sys.getsizeof(x)\n",
    "print('the size in bytes')\n",
    "sys.getsizeof(sys.getsizeof)\n"
   ]
  },
  {
   "cell_type": "markdown",
   "metadata": {},
   "source": [
    "Q49"
   ]
  },
  {
   "cell_type": "code",
   "execution_count": 52,
   "metadata": {},
   "outputs": [
    {
     "name": "stdout",
     "output_type": "stream",
     "text": [
      "hi\n",
      "fatima\n",
      "sharaiy\n",
      "?\n",
      "hifatimasharaiy?\n"
     ]
    }
   ],
   "source": [
    "x=input()\n",
    "y=input()\n",
    "z=input()\n",
    "s=input()\n",
    "print(x+y+z+s)"
   ]
  },
  {
   "cell_type": "markdown",
   "metadata": {},
   "source": [
    "**Q50"
   ]
  },
  {
   "cell_type": "code",
   "execution_count": 73,
   "metadata": {},
   "outputs": [
    {
     "name": "stdout",
     "output_type": "stream",
     "text": [
      "hello\n"
     ]
    }
   ],
   "source": [
    "x=print('hello')\n",
    "del(x)\n"
   ]
  },
  {
   "cell_type": "markdown",
   "metadata": {},
   "source": [
    "Q52"
   ]
  },
  {
   "cell_type": "code",
   "execution_count": 75,
   "metadata": {},
   "outputs": [
    {
     "name": "stdout",
     "output_type": "stream",
     "text": [
      "Enter a num -6\n",
      "Negative number\n"
     ]
    }
   ],
   "source": [
    "x= int(input(\"Enter a num \"))\n",
    "if x > 0:\n",
    "   print(\"Positive number\")\n",
    "elif x == 0:\n",
    "   print(\"Zero\")\n",
    "else:\n",
    "   print(\"Negative number\")"
   ]
  },
  {
   "cell_type": "markdown",
   "metadata": {},
   "source": [
    "Q53"
   ]
  },
  {
   "cell_type": "code",
   "execution_count": 4,
   "metadata": {},
   "outputs": [
    {
     "name": "stdout",
     "output_type": "stream",
     "text": [
      "enter a num5\n",
      "<class 'int'>\n",
      "Erorr\n"
     ]
    }
   ],
   "source": [
    "x=int(input('enter a num'))\n",
    "print(type(x))\n",
    "if type (x)!='int':\n",
    " print('Erorr')\n"
   ]
  },
  {
   "cell_type": "markdown",
   "metadata": {},
   "source": [
    "Q54"
   ]
  },
  {
   "cell_type": "code",
   "execution_count": 5,
   "metadata": {},
   "outputs": [
    {
     "name": "stdout",
     "output_type": "stream",
     "text": [
      "enter a strinthjbfhb\n",
      "enter a strintdfknjjkdf\n",
      "65854176\n",
      "65899240\n"
     ]
    }
   ],
   "source": [
    "x=input('enter a strint')\n",
    "y=input('enter a strint')\n",
    "print (id(x))\n",
    "print(id(y))"
   ]
  },
  {
   "cell_type": "markdown",
   "metadata": {},
   "source": [
    "Q55"
   ]
  },
  {
   "cell_type": "code",
   "execution_count": 7,
   "metadata": {},
   "outputs": [
    {
     "name": "stdout",
     "output_type": "stream",
     "text": [
      "enter strintfatima\n",
      "enter stringfatima\n",
      "Same Strings\n"
     ]
    }
   ],
   "source": [
    "x= input('enter strint')\n",
    " \n",
    "y= input('enter string')\n",
    "  \n",
    "if x == y:\n",
    " \n",
    "    print (\"Same Strings\")\n",
    " \n",
    "else:\n",
    " \n",
    "    print (\"Different Strings\")"
   ]
  },
  {
   "cell_type": "markdown",
   "metadata": {},
   "source": [
    "Q56"
   ]
  },
  {
   "cell_type": "code",
   "execution_count": 11,
   "metadata": {},
   "outputs": [
    {
     "name": "stdout",
     "output_type": "stream",
     "text": [
      "0\n"
     ]
    }
   ],
   "source": [
    "n=20\n",
    "print(type(n)())"
   ]
  },
  {
   "cell_type": "markdown",
   "metadata": {},
   "source": [
    "Q57"
   ]
  },
  {
   "cell_type": "code",
   "execution_count": 20,
   "metadata": {},
   "outputs": [
    {
     "name": "stdout",
     "output_type": "stream",
     "text": [
      "h\n"
     ]
    }
   ],
   "source": [
    "x='HGHJKIOh'\n",
    "for i in x:\n",
    "    if i.islower():\n",
    "         print (i)\n"
   ]
  },
  {
   "cell_type": "markdown",
   "metadata": {},
   "source": [
    "Q58"
   ]
  },
  {
   "cell_type": "code",
   "execution_count": 21,
   "metadata": {},
   "outputs": [
    {
     "name": "stdout",
     "output_type": "stream",
     "text": [
      "enter stringhii\n",
      "0 hii\n"
     ]
    }
   ],
   "source": [
    "x=input('enter string')\n",
    "print('0',x)"
   ]
  },
  {
   "cell_type": "code",
   "execution_count": null,
   "metadata": {},
   "outputs": [],
   "source": []
  }
 ],
 "metadata": {
  "kernelspec": {
   "display_name": "Python 3",
   "language": "python",
   "name": "python3"
  },
  "language_info": {
   "codemirror_mode": {
    "name": "ipython",
    "version": 3
   },
   "file_extension": ".py",
   "mimetype": "text/x-python",
   "name": "python",
   "nbconvert_exporter": "python",
   "pygments_lexer": "ipython3",
   "version": "3.7.3"
  }
 },
 "nbformat": 4,
 "nbformat_minor": 2
}
