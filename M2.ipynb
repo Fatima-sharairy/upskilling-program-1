{
 "cells": [
  {
   "cell_type": "markdown",
   "metadata": {},
   "source": [
    "Q1\n"
   ]
  },
  {
   "cell_type": "code",
   "execution_count": null,
   "metadata": {},
   "outputs": [],
   "source": []
  },
  {
   "cell_type": "markdown",
   "metadata": {},
   "source": [
    "Q2"
   ]
  },
  {
   "cell_type": "code",
   "execution_count": 34,
   "metadata": {},
   "outputs": [
    {
     "name": "stdout",
     "output_type": "stream",
     "text": [
      " enter a textheloooo Emma\n",
      "1\n"
     ]
    }
   ],
   "source": [
    "x=input(' enter a text')\n",
    "print(x.count('Emma'))"
   ]
  },
  {
   "cell_type": "markdown",
   "metadata": {},
   "source": [
    "Q3"
   ]
  },
  {
   "cell_type": "code",
   "execution_count": 32,
   "metadata": {},
   "outputs": [
    {
     "name": "stdout",
     "output_type": "stream",
     "text": [
      "\n",
      "\n",
      "1 \n",
      "\n",
      "2 2 \n",
      "\n",
      "3 3 3 \n",
      "\n",
      "4 4 4 4 \n",
      "\n",
      "5 5 5 5 5 \n",
      "\n"
     ]
    }
   ],
   "source": [
    "for x in range(6):\n",
    "    for i in range(x):\n",
    "        print (x, end=\" \") \n",
    "    print(\"\\n\")"
   ]
  },
  {
   "cell_type": "markdown",
   "metadata": {},
   "source": [
    "Q4"
   ]
  },
  {
   "cell_type": "code",
   "execution_count": 17,
   "metadata": {},
   "outputs": [
    {
     "name": "stdout",
     "output_type": "stream",
     "text": [
      "Enter a text more than 7 chr fatimaa\n",
      "original string is fatimaa\n",
      "middle three chars  tim\n"
     ]
    }
   ],
   "source": [
    "x=input('enter a text more than 7 chr ')\n",
    "y = int(len(x) /2)\n",
    "print(\"original string is\", x)\n",
    "z= x[y-1:y+2]\n",
    "print(\"middle three chars \", z)"
   ]
  },
  {
   "cell_type": "markdown",
   "metadata": {},
   "source": [
    "Q5\n"
   ]
  },
  {
   "cell_type": "code",
   "execution_count": 23,
   "metadata": {},
   "outputs": [
    {
     "name": "stdout",
     "output_type": "stream",
     "text": [
      "enter string1fatima\n",
      "enter string 2sharairy\n",
      "original strings is fatima sharairy\n",
      "new string is fasharairytima\n"
     ]
    }
   ],
   "source": [
    "s1=input(\"enter string1\")\n",
    "s2=input ('enter string 2')\n",
    "x = int(len(s1) /2)\n",
    "print(\"original strings is\", s1, s2)\n",
    "z = s1[:x-1:]+ s2 +s1[x-1:]\n",
    "print(\"new string is\", z)\n",
    "  \n"
   ]
  },
  {
   "cell_type": "markdown",
   "metadata": {},
   "source": [
    "**Q6"
   ]
  },
  {
   "cell_type": "code",
   "execution_count": 24,
   "metadata": {},
   "outputs": [
    {
     "name": "stdout",
     "output_type": "stream",
     "text": [
      "enter string1fatima\n",
      "enter string 2sharairy\n",
      "new string is fsiaay\n"
     ]
    }
   ],
   "source": [
    "s1=input(\"enter string1\")\n",
    "s2=input ('enter string 2')\n",
    "\n",
    "x = s1[:1] + s2[:1] + s1[int(len(s1) /2):int(len(s1) /2)+1] +s2[int(len(s2) /2):int(len(s2) /2)+1] +s1[len(s1)-1] + s2[len(s2)-1]\n",
    "print(\"new string is\", x)\n",
    "  "
   ]
  },
  {
   "cell_type": "markdown",
   "metadata": {},
   "source": [
    "Q7"
   ]
  },
  {
   "cell_type": "code",
   "execution_count": 28,
   "metadata": {},
   "outputs": [
    {
     "name": "stdout",
     "output_type": "stream",
     "text": [
      "enter stringFatiMaA\n",
      "new string is\n",
      "atiaFMA\n"
     ]
    }
   ],
   "source": [
    "x = input('enter string')\n",
    "z = x.split()\n",
    "l = []\n",
    "b = []\n",
    "for i in x:\n",
    "    if i.islower():\n",
    "        l.append(i)\n",
    "    else:\n",
    "        b.append(i)\n",
    "y = ''.join(l + b)\n",
    "print(\"new string is\")\n",
    "print(y)"
   ]
  },
  {
   "cell_type": "markdown",
   "metadata": {},
   "source": [
    "Q8"
   ]
  },
  {
   "cell_type": "code",
   "execution_count": 30,
   "metadata": {},
   "outputs": [
    {
     "name": "stdout",
     "output_type": "stream",
     "text": [
      "enter a stringme and thank hello\n",
      "['and', 'hello', 'me', 'thank']\n",
      "['and', 'hello', 'me', 'thank']\n",
      "['and', 'hello', 'me', 'thank']\n",
      "['and', 'hello', 'me', 'thank']\n"
     ]
    }
   ],
   "source": [
    "x = input(\"enter a string\")  \n",
    "z = x.split()  \n",
    "z.sort()  \n",
    "for i in z:  \n",
    "   print(z)  "
   ]
  },
  {
   "cell_type": "markdown",
   "metadata": {},
   "source": [
    "Q9"
   ]
  },
  {
   "cell_type": "code",
   "execution_count": null,
   "metadata": {},
   "outputs": [],
   "source": []
  },
  {
   "cell_type": "markdown",
   "metadata": {},
   "source": [
    "Q10"
   ]
  },
  {
   "cell_type": "code",
   "execution_count": 34,
   "metadata": {},
   "outputs": [
    {
     "name": "stdout",
     "output_type": "stream",
     "text": [
      "enter a num4\n",
      "the num is 4 sum is:  10\n"
     ]
    }
   ],
   "source": [
    "x = input(\"enter a num\")\n",
    "x = int (x)\n",
    "z = 0\n",
    "sum = 0\n",
    "for i in range(0,x+1,1):\n",
    "    sum = sum+i\n",
    "print(\"the num is\", x, \"sum is: \", sum )"
   ]
  },
  {
   "cell_type": "markdown",
   "metadata": {},
   "source": [
    "Q11"
   ]
  },
  {
   "cell_type": "code",
   "execution_count": 44,
   "metadata": {},
   "outputs": [
    {
     "name": "stdout",
     "output_type": "stream",
     "text": [
      "enter a num5\n",
      "factorial is\n",
      "120\n"
     ]
    }
   ],
   "source": [
    "x=int(input(\"enter a num\"))\n",
    "factorial=1\n",
    "if(x==0):\n",
    "    print(\"factorial of 0 is 1\");\n",
    "else:\n",
    "  while(x>0):\n",
    "        factorial=factorial*x\n",
    "        \n",
    "        x=x-1\n",
    "        \n",
    "  print(\"factorial is\")\n",
    "  print(factorial)\n"
   ]
  },
  {
   "cell_type": "markdown",
   "metadata": {},
   "source": [
    "Q13"
   ]
  },
  {
   "cell_type": "code",
   "execution_count": 16,
   "metadata": {},
   "outputs": [
    {
     "name": "stdout",
     "output_type": "stream",
     "text": [
      "* * * * \n",
      "* * * \n",
      "* * \n",
      "* \n"
     ]
    }
   ],
   "source": [
    "for x in range(0, 4):\n",
    "    for z in range(4, x, -1):\n",
    "        print(\"* \", end=\"\")\n",
    "    print()"
   ]
  },
  {
   "cell_type": "markdown",
   "metadata": {},
   "source": [
    "Q14"
   ]
  },
  {
   "cell_type": "code",
   "execution_count": 12,
   "metadata": {},
   "outputs": [
    {
     "name": "stdout",
     "output_type": "stream",
     "text": [
      "* \r\n",
      "* * \r\n",
      "* * * \r\n",
      "* * * * \r\n",
      "* * * * * \r\n",
      "* * * * \r\n",
      "* * * \r\n",
      "* * \r\n",
      "* \r\n",
      "\r\n"
     ]
    }
   ],
   "source": [
    "rows =5\n",
    "for i in range (0, rows):\n",
    "    for j in range(0, i + 1):\n",
    "        print(\"*\", end=' ')\n",
    "    print(\"\\r\")  \n",
    "for i in range (rows, 0, -1):\n",
    "    for j in range(0, i -1):\n",
    "        print(\"*\", end=' ')\n",
    "    print(\"\\r\")"
   ]
  },
  {
   "cell_type": "markdown",
   "metadata": {},
   "source": [
    "Q15"
   ]
  },
  {
   "cell_type": "code",
   "execution_count": 6,
   "metadata": {},
   "outputs": [
    {
     "name": "stdout",
     "output_type": "stream",
     "text": [
      "* 7\n",
      "* * 6\n",
      "* * * 5\n",
      "* * * * 4\n",
      "* * * * * 3\n"
     ]
    }
   ],
   "source": [
    "rows =5\n",
    "x=7\n",
    "for i in range (0, rows):\n",
    "    for j in range(0, i + 1):\n",
    "        print(\"*\", end=\" \")\n",
    "     \n",
    "    print(x)\n",
    "    x-=1"
   ]
  },
  {
   "cell_type": "markdown",
   "metadata": {},
   "source": [
    "Q16"
   ]
  },
  {
   "cell_type": "code",
   "execution_count": 53,
   "metadata": {},
   "outputs": [
    {
     "name": "stdout",
     "output_type": "stream",
     "text": [
      "    \n",
      "   * \n",
      "  * * \n",
      " * * * \n",
      "* * * * \n"
     ]
    }
   ],
   "source": [
    "x = 5\n",
    "for i in range(0,x):\n",
    "    for j in range(0,x-i-1):\n",
    "        print(end=\" \")\n",
    "    for j in range (0,i):\n",
    "        print(\"* \", end=\"\")\n",
    "  \n",
    "  \n",
    "    print()"
   ]
  },
  {
   "cell_type": "markdown",
   "metadata": {},
   "source": [
    "Q17"
   ]
  },
  {
   "cell_type": "code",
   "execution_count": 50,
   "metadata": {},
   "outputs": [
    {
     "name": "stdout",
     "output_type": "stream",
     "text": [
      "* * * * \n",
      " * * * \n",
      "  * * \n",
      "   * \n"
     ]
    }
   ],
   "source": [
    "x = 4\n",
    "for i in range(x,0,-1):\n",
    "    for j in range(0,x-i):\n",
    "        print(end=\" \")\n",
    "    for j in range (0,i):\n",
    "        print(\"* \", end=\"\")\n",
    "  \n",
    "  \n",
    "    print()"
   ]
  },
  {
   "cell_type": "markdown",
   "metadata": {},
   "source": [
    "Q18"
   ]
  },
  {
   "cell_type": "code",
   "execution_count": 54,
   "metadata": {},
   "outputs": [
    {
     "name": "stdout",
     "output_type": "stream",
     "text": [
      "    \n",
      "   * \n",
      "  * * \n",
      " * * * \n",
      "* * * * \n",
      "* * * * \n",
      " * * * \n",
      "  * * \n",
      "   * \n"
     ]
    }
   ],
   "source": [
    "x = 5\n",
    "for i in range(0,x):\n",
    "    for j in range(0,x-i-1):\n",
    "        print(end=\" \")\n",
    "    for j in range (0,i):\n",
    "        print(\"* \", end=\"\")\n",
    "  \n",
    "  \n",
    "    print()\n",
    "x = 4\n",
    "for i in range(x,0,-1):\n",
    "    for j in range(0,x-i):\n",
    "        print(end=\" \")\n",
    "    for j in range (0,i):\n",
    "        print(\"* \", end=\"\")\n",
    "  \n",
    "  \n",
    "    print()    "
   ]
  },
  {
   "cell_type": "markdown",
   "metadata": {},
   "source": [
    "Q19"
   ]
  },
  {
   "cell_type": "code",
   "execution_count": null,
   "metadata": {},
   "outputs": [],
   "source": []
  },
  {
   "cell_type": "markdown",
   "metadata": {},
   "source": [
    "Q20"
   ]
  },
  {
   "cell_type": "code",
   "execution_count": 9,
   "metadata": {},
   "outputs": [
    {
     "name": "stdout",
     "output_type": "stream",
     "text": [
      "0 , 1 , 1 , 2 , 3 , 5 , 8 , 13 , 21 , 34 , "
     ]
    }
   ],
   "source": [
    "x = 10\n",
    "n1 = 0\n",
    "n2 = 1\n",
    "count = 0\n",
    "\n",
    "while count < x:\n",
    "        print(n1,end=' , ')\n",
    "        nth = n1 + n2\n",
    "        n1 = n2\n",
    "        n2 = nth\n",
    "        count += 1\n"
   ]
  },
  {
   "cell_type": "markdown",
   "metadata": {},
   "source": [
    "**Q21\n"
   ]
  },
  {
   "cell_type": "code",
   "execution_count": null,
   "metadata": {},
   "outputs": [],
   "source": [
    "num1 = float(input(\" Enter Num1 : \"))\n",
    "num2 = float(input(\" Enter Num2 : \"))\n",
    "\n",
    "a = num1\n",
    "b = num2\n",
    "\n",
    "if(num1 == 0):\n",
    "    print(\"\\n HCF of {0} and {1} = {2}\".format(a, b, b))\n",
    "\n",
    "while(num2 != 0):\n",
    "    if(num1 > num2):\n",
    "        num1 = num1 - num2\n",
    "    else:\n",
    "        num2 = num2 - num1\n",
    "\n",
    "gcd = num1   \n",
    "print(\"\\n GCD of {0} and {1} = {2}\".format(a, b, gcd))"
   ]
  },
  {
   "cell_type": "markdown",
   "metadata": {},
   "source": [
    "**Q22"
   ]
  },
  {
   "cell_type": "code",
   "execution_count": null,
   "metadata": {},
   "outputs": [],
   "source": [
    "def gcd(x, y):\n",
    "    while(y):\n",
    "        x, y = y, x % y\n",
    "\n",
    "    return x\n",
    "def lcm(x, y):  \n",
    "    lcm = (x*y)//gcd(x,y)\n",
    "    return lcm\n",
    "num1 = int(input('enter num1'))\n",
    "num2 = int(input('enter num2'))\n",
    "\n",
    "\n",
    "print(\"The L.C.M. of\", num1,\"and\", num2,\"is\", lcm(num1, num2))"
   ]
  },
  {
   "cell_type": "markdown",
   "metadata": {},
   "source": [
    "Q23"
   ]
  },
  {
   "cell_type": "code",
   "execution_count": 63,
   "metadata": {},
   "outputs": [
    {
     "name": "stdout",
     "output_type": "stream",
     "text": [
      "sum of Odd Numbers from 1 to 100 =  2500\n"
     ]
    }
   ],
   "source": [
    "x = 1 \n",
    "y = 100\n",
    "even= 0\n",
    "odd= 0\n",
    "for i in range(x, y + 1):\n",
    "    if(i % 2 == 0):\n",
    "        even= even+ i\n",
    "    else:\n",
    "        odd= odd+ i\n",
    "print(\"sum of Odd Numbers from 1 to 100 = \", odd)"
   ]
  },
  {
   "cell_type": "markdown",
   "metadata": {},
   "source": [
    "Q24"
   ]
  },
  {
   "cell_type": "code",
   "execution_count": 65,
   "metadata": {},
   "outputs": [
    {
     "name": "stdout",
     "output_type": "stream",
     "text": [
      "2\n",
      "3\n",
      "5\n",
      "7\n",
      "11\n",
      "13\n",
      "17\n",
      "19\n",
      "23\n",
      "29\n",
      "31\n",
      "37\n",
      "41\n",
      "43\n",
      "47\n",
      "53\n",
      "59\n",
      "61\n",
      "67\n",
      "71\n",
      "73\n",
      "79\n",
      "83\n",
      "89\n",
      "97\n"
     ]
    }
   ],
   "source": [
    "x = 1\n",
    "z = 100\n",
    "  \n",
    "for i in range(x, z + 1): \n",
    "       if i > 1: \n",
    "        for j in range(2, i): \n",
    "           if (i % j) == 0: \n",
    "               break\n",
    "        else: \n",
    "           print(i) "
   ]
  },
  {
   "cell_type": "markdown",
   "metadata": {},
   "source": [
    "Q25"
   ]
  },
  {
   "cell_type": "markdown",
   "metadata": {},
   "source": [
    "Q26"
   ]
  },
  {
   "cell_type": "code",
   "execution_count": 68,
   "metadata": {},
   "outputs": [
    {
     "name": "stdout",
     "output_type": "stream",
     "text": [
      "9\n",
      "18\n",
      "27\n",
      "36\n",
      "45\n",
      "54\n",
      "63\n",
      "72\n",
      "81\n"
     ]
    }
   ],
   "source": [
    "num = 9\n",
    "for i in range(1, 10):\n",
    "   print(num*i)"
   ]
  },
  {
   "cell_type": "markdown",
   "metadata": {},
   "source": [
    "Q28"
   ]
  },
  {
   "cell_type": "code",
   "execution_count": 6,
   "metadata": {},
   "outputs": [
    {
     "name": "stdout",
     "output_type": "stream",
     "text": [
      "Enter number:5\n",
      "The number is a palindrome!\n"
     ]
    }
   ],
   "source": [
    "n=int(input(\"Enter number:\"))\n",
    "temp=n\n",
    "rev=0\n",
    "while(n>0):\n",
    "    dig=n%10\n",
    "    rev=rev*10+dig\n",
    "    n=n//10\n",
    "if(temp==rev):\n",
    "    print(\"The number is a palindrome!\")\n",
    "else:\n",
    "    print(\"The number isn't a palindrome!\")"
   ]
  },
  {
   "cell_type": "markdown",
   "metadata": {},
   "source": [
    "Q29"
   ]
  },
  {
   "cell_type": "code",
   "execution_count": 5,
   "metadata": {},
   "outputs": [
    {
     "name": "stdout",
     "output_type": "stream",
     "text": [
      "Enter a number: 432\n",
      "sum= 9.0\n"
     ]
    }
   ],
   "source": [
    "num = input(\"Enter a number: \")\n",
    "sum = 0.\n",
    "for i in num:\n",
    "    sum += int(i)\n",
    "    \n",
    "print('sum=',sum)"
   ]
  },
  {
   "cell_type": "markdown",
   "metadata": {},
   "source": [
    "Q30"
   ]
  },
  {
   "cell_type": "code",
   "execution_count": null,
   "metadata": {},
   "outputs": [],
   "source": []
  },
  {
   "cell_type": "markdown",
   "metadata": {},
   "source": [
    "Q31"
   ]
  },
  {
   "cell_type": "code",
   "execution_count": null,
   "metadata": {},
   "outputs": [],
   "source": []
  },
  {
   "cell_type": "markdown",
   "metadata": {},
   "source": [
    "Q32"
   ]
  },
  {
   "cell_type": "code",
   "execution_count": null,
   "metadata": {},
   "outputs": [],
   "source": []
  },
  {
   "cell_type": "markdown",
   "metadata": {},
   "source": [
    "Q33"
   ]
  },
  {
   "cell_type": "code",
   "execution_count": null,
   "metadata": {},
   "outputs": [],
   "source": []
  },
  {
   "cell_type": "markdown",
   "metadata": {},
   "source": [
    "Q34"
   ]
  },
  {
   "cell_type": "code",
   "execution_count": 30,
   "metadata": {},
   "outputs": [
    {
     "name": "stdout",
     "output_type": "stream",
     "text": [
      "enter  string :fatimaa\n",
      "char to remove:a\n"
     ]
    }
   ],
   "source": [
    "x=input('enter  string :')\n",
    "z=input('char to remove:')\n",
    "for i in range ( len(x)):\n",
    "    if x[i]==z:\n",
    "        x[i].replace(x[i],',')\n",
    "    else:\n",
    "        pass"
   ]
  },
  {
   "cell_type": "markdown",
   "metadata": {},
   "source": [
    "Q35"
   ]
  },
  {
   "cell_type": "code",
   "execution_count": 6,
   "metadata": {},
   "outputs": [
    {
     "name": "stdout",
     "output_type": "stream",
     "text": [
      "enter a stringhelloo\n",
      "hloo\n"
     ]
    }
   ],
   "source": [
    "x = input(\"enter a string\")\n",
    "z = str[::2]\n",
    "print(z)"
   ]
  },
  {
   "cell_type": "markdown",
   "metadata": {},
   "source": [
    "Q36"
   ]
  },
  {
   "cell_type": "code",
   "execution_count": 5,
   "metadata": {},
   "outputs": [
    {
     "name": "stdout",
     "output_type": "stream",
     "text": [
      "Enter a string\n",
      "hellooo\n",
      "hloo\n"
     ]
    }
   ],
   "source": [
    "str = input(\"Enter a string\\n\")\n",
    "modified_string = str[::2]\n",
    "print(modified_string)"
   ]
  },
  {
   "cell_type": "markdown",
   "metadata": {},
   "source": [
    "Q37"
   ]
  },
  {
   "cell_type": "code",
   "execution_count": null,
   "metadata": {},
   "outputs": [],
   "source": []
  },
  {
   "cell_type": "markdown",
   "metadata": {},
   "source": [
    "Q39"
   ]
  },
  {
   "cell_type": "code",
   "execution_count": 11,
   "metadata": {},
   "outputs": [
    {
     "name": "stdout",
     "output_type": "stream",
     "text": [
      "Input the Filename: abc.java\n",
      "['abc', 'java']\n"
     ]
    }
   ],
   "source": [
    "filename = input(\"Input the Filename: \")\n",
    "extention = filename.split(\".\")\n",
    "print(extention)"
   ]
  },
  {
   "cell_type": "markdown",
   "metadata": {},
   "source": [
    "Q40"
   ]
  },
  {
   "cell_type": "code",
   "execution_count": 14,
   "metadata": {},
   "outputs": [
    {
     "name": "stdout",
     "output_type": "stream",
     "text": [
      "enter stringhelloo\n",
      "Is helloo\n"
     ]
    }
   ],
   "source": [
    "x=input('enter string')\n",
    "if len(x) >= 2 and x[:2] == \"Is\":\n",
    "    print(x)\n",
    "else:\n",
    "    print (\"Is \" + x)"
   ]
  },
  {
   "cell_type": "markdown",
   "metadata": {},
   "source": [
    "Q41"
   ]
  },
  {
   "cell_type": "code",
   "execution_count": 22,
   "metadata": {},
   "outputs": [
    {
     "name": "stdout",
     "output_type": "stream",
     "text": [
      "enter stringhello\n",
      "enter num3\n",
      "hellohellohello  \n"
     ]
    }
   ],
   "source": [
    "x=input('enter string')\n",
    "z=int(input('enter num'))\n",
    "y=\"\"\n",
    "for i in range(z):\n",
    "      y = y + x\n",
    "print(y)"
   ]
  },
  {
   "cell_type": "markdown",
   "metadata": {},
   "source": [
    "*Q42"
   ]
  },
  {
   "cell_type": "code",
   "execution_count": 29,
   "metadata": {},
   "outputs": [
    {
     "name": "stdout",
     "output_type": "stream",
     "text": [
      "enter stringhellooo\n",
      "enter num4\n",
      "hehehehe\n"
     ]
    }
   ],
   "source": [
    "x=input('enter string')\n",
    "z=int(input('enter num'))\n",
    "y = 2\n",
    "if y > len(x):\n",
    "    y = len(x)\n",
    "a = x[:y]\n",
    "b = \"\"\n",
    "for i in range(z):\n",
    "    b = b + a\n",
    "print(b) \n",
    "\n"
   ]
  },
  {
   "cell_type": "markdown",
   "metadata": {},
   "source": [
    "Q43"
   ]
  },
  {
   "cell_type": "code",
   "execution_count": null,
   "metadata": {},
   "outputs": [],
   "source": []
  },
  {
   "cell_type": "markdown",
   "metadata": {},
   "source": [
    "Q44"
   ]
  },
  {
   "cell_type": "code",
   "execution_count": 4,
   "metadata": {},
   "outputs": [
    {
     "name": "stdout",
     "output_type": "stream",
     "text": [
      "enter namefatima\n",
      "enter age44\n",
      "enter addressjordan\n",
      "fatima \n",
      " 44 \n",
      " jordan\n"
     ]
    }
   ],
   "source": [
    "name=input('enter name')\n",
    "age = int(input ('enter age'))\n",
    "address=input('enter address')\n",
    "\n",
    "print(name,'\\n',age,'\\n',address)"
   ]
  },
  {
   "cell_type": "markdown",
   "metadata": {},
   "source": [
    "Q45"
   ]
  },
  {
   "cell_type": "code",
   "execution_count": 7,
   "metadata": {},
   "outputs": [
    {
     "name": "stdout",
     "output_type": "stream",
     "text": [
      "enter num 4\n",
      "enter num  6\n",
      "enter num 8\n",
      "num in order 4 6 8\n"
     ]
    }
   ],
   "source": [
    "x = int(input('enter num '))\n",
    "y = int(input(\"enter num  \"))\n",
    "z = int(input('enter num '))\n",
    "\n",
    "a = min(x, y, z)\n",
    "b = max(x, y, z)\n",
    "c = (x + y + z) - a - b\n",
    "print(\"num in order\", a, c, b)"
   ]
  },
  {
   "cell_type": "markdown",
   "metadata": {},
   "source": [
    "Q48"
   ]
  },
  {
   "cell_type": "code",
   "execution_count": null,
   "metadata": {},
   "outputs": [],
   "source": [
    "obj1 = input('enter an object')\n",
    "obj1_address = id(obj1)\n",
    "print()\n",
    "print(obj1_address)\n",
    "print()"
   ]
  },
  {
   "cell_type": "markdown",
   "metadata": {},
   "source": [
    "Q49"
   ]
  },
  {
   "cell_type": "code",
   "execution_count": 7,
   "metadata": {},
   "outputs": [
    {
     "name": "stdout",
     "output_type": "stream",
     "text": [
      "\n",
      "Mon Oct 21 23:24:17 2019\n",
      "\n"
     ]
    }
   ],
   "source": [
    "import time\n",
    "print()\n",
    "print(time.ctime())\n",
    "print()"
   ]
  },
  {
   "cell_type": "markdown",
   "metadata": {},
   "source": [
    "Q50"
   ]
  },
  {
   "cell_type": "code",
   "execution_count": 8,
   "metadata": {},
   "outputs": [
    {
     "name": "stdout",
     "output_type": "stream",
     "text": [
      "enter a num7\n",
      "The ASCII value of '7' is 55\n"
     ]
    }
   ],
   "source": [
    "c =input('enter a num')\n",
    "\n",
    "\n",
    "print(\"The ASCII value of '\" + c + \"' is\",ord(c))"
   ]
  },
  {
   "cell_type": "markdown",
   "metadata": {},
   "source": [
    "Q51"
   ]
  },
  {
   "cell_type": "code",
   "execution_count": 10,
   "metadata": {},
   "outputs": [
    {
     "name": "stdout",
     "output_type": "stream",
     "text": [
      "enter an objectx\n",
      "\n",
      "19573536\n",
      "\n"
     ]
    }
   ],
   "source": [
    "obj1 = input('enter an object')\n",
    "obj1_address = id(obj1)\n",
    "print()\n",
    "print(obj1_address)\n",
    "print()"
   ]
  },
  {
   "cell_type": "markdown",
   "metadata": {},
   "source": [
    "Q52"
   ]
  },
  {
   "cell_type": "code",
   "execution_count": 19,
   "metadata": {},
   "outputs": [
    {
     "name": "stdout",
     "output_type": "stream",
     "text": [
      "enter num8\n",
      "784\n"
     ]
    }
   ],
   "source": [
    "x=int(input('enter num'))\n",
    "x -= 1\n",
    "sum1 = 0\n",
    "while x > 0:\n",
    " sum1 += x * x * x\n",
    " x -= 1\n",
    "print( sum1)\n"
   ]
  },
  {
   "cell_type": "markdown",
   "metadata": {},
   "source": [
    "Q53"
   ]
  },
  {
   "cell_type": "code",
   "execution_count": null,
   "metadata": {},
   "outputs": [],
   "source": []
  },
  {
   "cell_type": "markdown",
   "metadata": {},
   "source": [
    "Q54"
   ]
  },
  {
   "cell_type": "code",
   "execution_count": null,
   "metadata": {},
   "outputs": [],
   "source": []
  },
  {
   "cell_type": "markdown",
   "metadata": {},
   "source": [
    "Q55"
   ]
  },
  {
   "cell_type": "code",
   "execution_count": null,
   "metadata": {},
   "outputs": [],
   "source": [
    "a = input(\"Input the first num: \")\n",
    "y = input(\"Input the second num: \")\n",
    "z = input(\"Input the third num: \")\n",
    "print(\"Median of the above 3 nums is: \")\n",
    " \n",
    "if y < a and a < z:\n",
    "    print(a)\n",
    "elif z < a and a < y:\n",
    "    print(a)\n",
    " \n",
    "elif z < y and y < a:\n",
    "    print(y)\n",
    "elif a < y and y < z:\n",
    "    print(y)\n",
    " \n",
    "elif y < z and z < a:\n",
    "    print(z)    \n",
    "elif a < z and z < y:\n",
    "    print(z)"
   ]
  },
  {
   "cell_type": "markdown",
   "metadata": {},
   "source": [
    "Q56"
   ]
  },
  {
   "cell_type": "code",
   "execution_count": 2,
   "metadata": {},
   "outputs": [
    {
     "name": "stdout",
     "output_type": "stream",
     "text": [
      "Enter an integer:4\n",
      "The divisors of the number are:\n",
      "1\n",
      "2\n",
      "4\n"
     ]
    }
   ],
   "source": [
    "n=int(input(\"Enter an integer:\"))\n",
    "print(\"The divisors of the number are:\")\n",
    "for i in range(1,n+1):\n",
    "    if(n%i==0):\n",
    "        print(i)\n",
    "        "
   ]
  },
  {
   "cell_type": "markdown",
   "metadata": {},
   "source": [
    "Q57"
   ]
  },
  {
   "cell_type": "code",
   "execution_count": 25,
   "metadata": {},
   "outputs": [
    {
     "name": "stdout",
     "output_type": "stream",
     "text": [
      "enter num24\n",
      "8\n"
     ]
    }
   ],
   "source": [
    "x=int(input('enter num'))\n",
    "for i in range(x):\n",
    "    z = len([i for i in range(1,x+1) if not x % i])\n",
    "print(z)"
   ]
  },
  {
   "cell_type": "markdown",
   "metadata": {},
   "source": [
    "**Q58"
   ]
  },
  {
   "cell_type": "code",
   "execution_count": 29,
   "metadata": {},
   "outputs": [
    {
     "name": "stdout",
     "output_type": "stream",
     "text": [
      "enter num15\n",
      "50\n"
     ]
    }
   ],
   "source": [
    "x=int(input('enter num'))\n",
    "if x==1 or x==2 or x==3 or x==4:\n",
    "        print( '1')\n",
    "print( (x-1) + (x-2) + (x-3) + (x-4))"
   ]
  },
  {
   "cell_type": "markdown",
   "metadata": {},
   "source": [
    "Q59"
   ]
  }
 ],
 "metadata": {
  "kernelspec": {
   "display_name": "Python 3",
   "language": "python",
   "name": "python3"
  }
 },
 "nbformat": 4,
 "nbformat_minor": 2
}
